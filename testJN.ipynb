{
 "cells": [
  {
   "cell_type": "code",
   "execution_count": null,
   "metadata": {},
   "outputs": [],
   "source": [
    "print('test')"
   ]
  },
  {
   "cell_type": "code",
   "execution_count": null,
   "metadata": {},
   "outputs": [],
   "source": [
    "def test(s):\n",
    "    return s+1"
   ]
  },
  {
   "cell_type": "code",
   "execution_count": null,
   "metadata": {},
   "outputs": [],
   "source": [
    "test(10)"
   ]
  },
  {
   "cell_type": "markdown",
   "metadata": {},
   "source": [
    "# This is equation examples.\n",
    "\n",
    "Example inline equation: $\\binom{n}{k} = \\frac{n!}{k!(n-k)!}$\n",
    "\n",
    "This is block equation:\n",
    "\n",
    "\\begin{align}\n",
    "\\dot{x} & = \\sigma(y-x) \\\\\n",
    "\\dot{y} & = \\rho x - y - xz \\\\\n",
    "\\dot{z} & = -\\beta z + xy\n",
    "\\end{align}\n",
    "\n",
    "With begin equation:\n",
    "\n",
    "\\begin{equation*}\n",
    "\\left( \\sum_{k=1}^n a_k b_k \\right)^2 \\leq \\left( \\sum_{k=1}^n a_k^2 \\right) \\left( \\sum_{k=1}^n b_k^2 \\right)\n",
    "\\end{equation*}\n",
    "\n",
    "# This is function explanation.\n",
    "\n",
    "This function does not do anything.\n",
    "\n",
    "Python\n",
    "```py\n",
    "def test(s):\n",
    "    return s+1\n",
    "```\n",
    "\n",
    "JavaScript\n",
    "```js\n",
    "function test(s) {\n",
    "    return s+1;\n",
    "}\n",
    "```\n",
    "\n",
    "Shell Script\n",
    "```sh\n",
    "echo \"test hello\"\n",
    "```"
   ]
  }
 ],
 "metadata": {
  "language_info": {
   "name": "python",
   "pygments_lexer": "ipython3"
  }
 },
 "nbformat": 4,
 "nbformat_minor": 2
}
